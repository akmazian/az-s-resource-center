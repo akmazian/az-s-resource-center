{
 "cells": [
  {
   "cell_type": "code",
   "execution_count": 6,
   "metadata": {},
   "outputs": [],
   "source": [
    "import json"
   ]
  },
  {
   "cell_type": "code",
   "execution_count": 16,
   "metadata": {},
   "outputs": [],
   "source": [
    "f = open('courses_v3.json', 'r')\n",
    "\n",
    "raw = f.read()\n",
    "f.close()\n",
    "\n",
    "data = json.loads(raw)"
   ]
  },
  {
   "cell_type": "code",
   "execution_count": 30,
   "metadata": {},
   "outputs": [],
   "source": [
    "courses = []\n",
    "\n",
    "for college in data:\n",
    "    for dept in college['depts']:\n",
    "        for curr in dept['curricula']:\n",
    "            courses.extend(curr['courses'])"
   ]
  },
  {
   "cell_type": "code",
   "execution_count": 31,
   "metadata": {},
   "outputs": [],
   "source": [
    "for c in range(len(courses)):\n",
    "    s = courses[c].split('|')\n",
    "    courses[c] = {\n",
    "        'curriculum': s[0],\n",
    "        'number': s[1],\n",
    "        'title': s[2]\n",
    "    }"
   ]
  },
  {
   "cell_type": "code",
   "execution_count": 33,
   "metadata": {},
   "outputs": [
    {
     "data": {
      "text/plain": [
       "1858916"
      ]
     },
     "execution_count": 33,
     "metadata": {},
     "output_type": "execute_result"
    }
   ],
   "source": [
    "file = open('courses_list.json', 'w')\n",
    "file.write(json.dumps(courses, indent=4))"
   ]
  },
  {
   "cell_type": "code",
   "execution_count": null,
   "metadata": {},
   "outputs": [],
   "source": []
  }
 ],
 "metadata": {
  "kernelspec": {
   "display_name": "Python 3",
   "language": "python",
   "name": "python3"
  },
  "language_info": {
   "codemirror_mode": {
    "name": "ipython",
    "version": 3
   },
   "file_extension": ".py",
   "mimetype": "text/x-python",
   "name": "python",
   "nbconvert_exporter": "python",
   "pygments_lexer": "ipython3",
   "version": "3.11.0"
  },
  "orig_nbformat": 4,
  "vscode": {
   "interpreter": {
    "hash": "fd58d7d4e03881eb7b24d4e0ff9edb11532667bf102812775e2f88bfa5e50f4a"
   }
  }
 },
 "nbformat": 4,
 "nbformat_minor": 2
}
